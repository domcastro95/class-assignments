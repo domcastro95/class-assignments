{
 "cells": [
  {
   "cell_type": "markdown",
   "metadata": {},
   "source": [
    "(message Mike about that we chose canidaes even before the canidae example in class? What do you want us to do to have us have the highest grade possible for something we couldn't forsee?) \n",
    "\n",
    "(use pirate for your data)\n",
    "\n",
    "09:30 Aditya Kantawala\n",
    "- Did you take into account Pangea or when continents were just 1 continent\n",
    "- How will you fix the graphs since there are so many species?\n",
    "\n",
    "09:34 Justin Shieh\n",
    "- Why were the fossils found near the coast when these are water species?\n",
    "- What about the brain size will help with corrilation to survivation? \n",
    "\n",
    "09:38 Sarah Kim\n",
    "(Canis) \n",
    "- How come our data sets so different?  \n",
    "- How did you use R to graph the data? \n",
    "\n",
    "\n",
    "09:42 Christina Zhou\n",
    "(bats)\n",
    "- Why are there so many bats in south america?\n",
    "- Why don't you think fossilation happenned much in South America?\n",
    "(look at the relationship with richness through time, and changing extinction times)\n",
    "\n",
    "09:46 Gayane Hovsepyan\n",
    "- What is the age range of the data sets of children?\n",
    "- How did the people get a high number of austistic children? \n",
    "\n",
    "\n",
    "09:50 Roxana Nojoumi (Horse Family) \n",
    "- Why is there a high density of fossils in NA and Europe?\n",
    "- Why is there a high extinction rate of horses closer to our era? \n",
    "(stack overflow - combining plots)\n",
    "\n",
    "09:54 Cooper Kass (seagrass project)\n",
    "- Why do you think seagrass isn't invasive? \n",
    "- Why did you use a pie chart as oppose toa  bar graph?\n",
    "\n",
    "09:58 Jeffrey Lee (Canidae) \n",
    "- What is this one extant species in the Canidae family?\n",
    "- How will you percieve your map when one ha sonly 100 data sets (given that is the base for PBDB)?\n",
    "\n",
    "10:02 Laura Trejo\n",
    "(Quetzal) \n",
    "- How will you make your own map of the bird data through Rstudio?\n",
    "- How will you resconstruct the graph you made in R (family tree) to make it more visable?\n",
    "\n",
    "10:06 Jin Kim (Aves)\n",
    "- How are you going to make the R graph more readable for the aves fossil occurances?\n",
    "- How will you get more data for specific species? Is this substantial data?\n",
    "\n",
    "10:10 Marina Salama (Anora - Frogs)\n",
    "-  How will you use the extinction over time to describe what you want to find from this data?\n",
    "- What inference do you think happened in the gap in you R data?\n",
    "\n",
    "10:14 Erin Solis (Heteromyidae)\n",
    "- What is the purpose of the duration for your data? \n",
    "- What does the small occurance during the fossil occurances mean to you?\n",
    "\n",
    "10:18 Sean Mathew (Felidae - cats, lions)\n",
    "- How did you make the gif of the world map? \n",
    "- how did you make the output look so alligned and easy to the eyes ?\n",
    "\n",
    "10:22 Tiffany Dang\n",
    "- How do you reformat the .csv file to get your data?\n",
    "- How did you use pyrate to make a dotted line in the map?"
   ]
  },
  {
   "cell_type": "code",
   "execution_count": null,
   "metadata": {
    "collapsed": true
   },
   "outputs": [],
   "source": []
  }
 ],
 "metadata": {
  "anaconda-cloud": {},
  "kernelspec": {
   "display_name": "Python [conda root]",
   "language": "python",
   "name": "conda-root-py"
  },
  "language_info": {
   "codemirror_mode": {
    "name": "ipython",
    "version": 3
   },
   "file_extension": ".py",
   "mimetype": "text/x-python",
   "name": "python",
   "nbconvert_exporter": "python",
   "pygments_lexer": "ipython3",
   "version": "3.5.2"
  }
 },
 "nbformat": 4,
 "nbformat_minor": 2
}
