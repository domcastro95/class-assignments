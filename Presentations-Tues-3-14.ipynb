{
 "cells": [
  {
   "cell_type": "markdown",
   "metadata": {},
   "source": [
    "Presentations-Tues-3-14.ipynb\n",
    "2 questions   \n",
    "-participation\n",
    "\n",
    "09:30 Kelsey Jiang\n",
    "\n",
    "09:34 Dominique Castro\n",
    "\n",
    "09:38 Linna Sun\n",
    "\n",
    "09:42 Ashen Parikh\n",
    "\n",
    "09:46 Matthew Muia\n",
    "\n",
    "09:50 Antonella Gonzalez - tech difficulty\n",
    "\n",
    "09:54 Yee Chau\n",
    "\n",
    "09:58 Kristen Lee\n",
    "\n",
    "10:02 Madison Downing\n",
    "\n",
    "10:06 Youstina Salama\n",
    "\n",
    "10:10 Jeremy Wadowski\n",
    "\n",
    "10:14 Mehdi Nojoumi\n",
    "\n",
    "10:18 Junghoon Kim\n",
    "\n",
    "10:22 Dustin Wong\n",
    "\n",
    "10:26 Hyein Kil\n",
    "\n"
   ]
  },
  {
   "cell_type": "markdown",
   "metadata": {},
   "source": [
    "Kelsey Jiang  \n",
    "- What are the relationships between the older and new sharks   \n",
    "- What are the biological functions of the sharks?  "
   ]
  },
  {
   "cell_type": "markdown",
   "metadata": {},
   "source": [
    "Dom - Presentation "
   ]
  },
  {
   "cell_type": "markdown",
   "metadata": {},
   "source": [
    "3rd presentation  \n",
    "- What about these elephants made it interesting for you?  \n",
    "- What did you find in the location of these different elephants?   "
   ]
  },
  {
   "cell_type": "markdown",
   "metadata": {},
   "source": [
    "Ashen Parikh\n",
    "- What about culture do you want to study in the interaction? \n",
    "- What did you do to the empty lists? Did it make the data skewed? "
   ]
  },
  {
   "cell_type": "markdown",
   "metadata": {},
   "source": [
    "4th - Matthew   \n",
    "California Valley Oak\n",
    "- How did you decide the 93 different populations to choose for the California Valley Oak? \n",
    "- What did you have to to bootstap your data?"
   ]
  },
  {
   "cell_type": "markdown",
   "metadata": {},
   "source": [
    "5th  - tech difficulty (sony viso)\n",
    "Antonella Gonzalez  \n",
    "\n",
    "- What about these alligators did you find interesting in relation to other species?\n",
    "- What does that alligator that lasted the longest so important? \n"
   ]
  },
  {
   "cell_type": "markdown",
   "metadata": {},
   "source": [
    "Yee Chau  \n",
    "Squamata  \n",
    "- What was the relationship between extiction and the environment?\n",
    "- What kind of biological function did you find between these squamata?"
   ]
  },
  {
   "cell_type": "markdown",
   "metadata": {},
   "source": [
    "Kristen Lee\n",
    "Pilosa (order that occurs and anteaters and sloths) \n",
    "-  why are slothes still alive if they physically lack so much muscle to survive? \n",
    "-  What does the meaning of not many sloths data mean? "
   ]
  },
  {
   "cell_type": "markdown",
   "metadata": {},
   "source": [
    " Madison Downing\n",
    " - What did you find about the bird and mammals similarities and dictionaries?\n",
    " - How did you change the colors on your map? "
   ]
  },
  {
   "cell_type": "markdown",
   "metadata": {},
   "source": [
    "10:06 Youstina Salama  \n",
    "Primates \n",
    "- What about these primates you used to make data for? \n",
    "- What were you trying to see when you made the same data with different graphs?"
   ]
  },
  {
   "cell_type": "markdown",
   "metadata": {},
   "source": [
    "10:10 Jeremy Wadowski\n",
    "tri-athlete data\n",
    "- Was there a different in results from the different sexes of the athlete? \n",
    "- How did different workouts affect the heart? "
   ]
  },
  {
   "cell_type": "markdown",
   "metadata": {},
   "source": [
    "10:14 Mehdi Nojoumi\n",
    "Avian \n",
    "- what does the atheroscierosis affect the avions?\n",
    "- What does the missing 2 or more orders even mean to the data set? "
   ]
  },
  {
   "cell_type": "markdown",
   "metadata": {},
   "source": [
    "10:18 Junghoon Kim\n",
    "Circardian Rhythem of Blattella Geermanica\n",
    "- What does the different lines mean to the roaches?\n",
    "- What was the control of the variable? The different sexes?"
   ]
  },
  {
   "cell_type": "markdown",
   "metadata": {},
   "source": [
    "10:22 Dustin Wong  \n",
    "Feliformia\n",
    "- How does the data relate to other feline species?\n",
    "- What does the time periods even mean to the data? "
   ]
  },
  {
   "cell_type": "markdown",
   "metadata": {},
   "source": [
    "10:26 Hyein Kil *hayley*\n",
    "-  What about this strain mean between the asian duck vs the american duck?\n",
    "- What about the data about time periods says about the transition of duck in relation to the strain?"
   ]
  },
  {
   "cell_type": "code",
   "execution_count": null,
   "metadata": {
    "collapsed": true
   },
   "outputs": [],
   "source": []
  }
 ],
 "metadata": {
  "anaconda-cloud": {},
  "kernelspec": {
   "display_name": "Python [conda root]",
   "language": "python",
   "name": "conda-root-py"
  },
  "language_info": {
   "codemirror_mode": {
    "name": "ipython",
    "version": 3
   },
   "file_extension": ".py",
   "mimetype": "text/x-python",
   "name": "python",
   "nbconvert_exporter": "python",
   "pygments_lexer": "ipython3",
   "version": "3.5.2"
  }
 },
 "nbformat": 4,
 "nbformat_minor": 2
}
