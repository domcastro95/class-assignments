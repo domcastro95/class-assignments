{
 "cells": [
  {
   "cell_type": "code",
   "execution_count": 4,
   "metadata": {
    "collapsed": false
   },
   "outputs": [
    {
     "name": "stdout",
     "output_type": "stream",
     "text": [
      "Homo is an ape\n",
      "Pan is an ape\n",
      "Gorilla is an ape\n"
     ]
    }
   ],
   "source": [
    "apes = [\"Homo\", \"Pan\", \"Gorilla\"]\n",
    "print(apes[0] + \" is an ape\")\n",
    "print(apes[1] + \" is an ape\")\n",
    "print(apes[2] + \" is an ape\")"
   ]
  },
  {
   "cell_type": "code",
   "execution_count": 3,
   "metadata": {
    "collapsed": false
   },
   "outputs": [
    {
     "name": "stdout",
     "output_type": "stream",
     "text": [
      "Homo is an ape\n",
      "Pan is an ape\n",
      "Gorilla is an ape\n"
     ]
    }
   ],
   "source": [
    "for varialbe in apes:\n",
    "    print(varialbe + \" is an ape\")"
   ]
  },
  {
   "cell_type": "code",
   "execution_count": 1,
   "metadata": {
    "collapsed": false
   },
   "outputs": [
    {
     "name": "stdout",
     "output_type": "stream",
     "text": [
      "3\n",
      "4\n",
      "5\n",
      "6\n",
      "7\n"
     ]
    }
   ],
   "source": [
    "for number in range(3,8):\n",
    "    print(number)"
   ]
  },
  {
   "cell_type": "code",
   "execution_count": 2,
   "metadata": {
    "collapsed": false
   },
   "outputs": [
    {
     "name": "stdout",
     "output_type": "stream",
     "text": [
      "2\n",
      "6\n",
      "10\n"
     ]
    }
   ],
   "source": [
    "for number in range(2,14,4):\n",
    "    print(number)"
   ]
  },
  {
   "cell_type": "code",
   "execution_count": 1,
   "metadata": {
    "collapsed": false
   },
   "outputs": [
    {
     "name": "stdout",
     "output_type": "stream",
     "text": [
      "1\n",
      "2\n",
      "3\n",
      "4\n",
      "5\n",
      "6\n",
      "7\n",
      "8\n",
      "9\n"
     ]
    }
   ],
   "source": [
    "count = 1 \n",
    "while count <10:\n",
    "    print(count)\n",
    "    count = count + 1 \n",
    "    # this adds a count to the count and compares it to `while count`\n",
    "    ## ALWAYS ADD A ADDED COUNTER 'LINE 4' to make it stop\n",
    "    ### do not use 0 or nothing at all or it will be in a continius loop \n",
    "    #### 'Cntrl + M' helps stop an infinite loop with 'ctrl + I'"
   ]
  },
  {
   "cell_type": "markdown",
   "metadata": {
    "collapsed": true
   },
   "source": [
    "### Challenge 1: Bird Challenge\n",
    "1. How many families are in this file? \n",
    "`tail -n+4 formatted.nature.csv | cut -d \",\" -f -3 | sort | uniq | wc -l'\n",
    "Partner: Haily Kil \n",
    "196 families \n",
    "2. Which family have the most species represented?\n",
    "3. How many families have only a single species in them? \n",
    "4. How many families are present in the eBird data?\n",
    "5. How many species are in each family of the eBird data?\n",
    "\n",
    "\n",
    "I used wget to dwnld the first data set\n",
    "\n",
    "`````\n",
    "email\n",
    "`````\n",
    "\n",
    "### There is a problem with the end of line characters. I saved the originalf iles as new files with correcting with `tr`\n",
    "\n",
    "``` \n",
    "to translate the data into a readable '.csv' file i used the code\n",
    "`tr \"\\r\" \"\\n\" < nature21074-f1.csv > formatted.nature.csv`\n",
    "to make the excel worksheet to a '.csv file' that can be seen as a 'see formatted.nature.csv'\n",
    "\n",
    "\n"
   ]
  },
  {
   "cell_type": "code",
   "execution_count": null,
   "metadata": {
    "collapsed": true
   },
   "outputs": [],
   "source": []
  }
 ],
 "metadata": {
  "anaconda-cloud": {},
  "kernelspec": {
   "display_name": "Python [conda root]",
   "language": "python",
   "name": "conda-root-py"
  },
  "language_info": {
   "codemirror_mode": {
    "name": "ipython",
    "version": 3
   },
   "file_extension": ".py",
   "mimetype": "text/x-python",
   "name": "python",
   "nbconvert_exporter": "python",
   "pygments_lexer": "ipython3",
   "version": "3.5.2"
  }
 },
 "nbformat": 4,
 "nbformat_minor": 2
}
