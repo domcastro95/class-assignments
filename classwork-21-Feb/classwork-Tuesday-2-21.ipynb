{
 "cells": [
  {
   "cell_type": "markdown",
   "metadata": {
    "collapsed": true
   },
   "source": [
    "Guided exploration of the data  \n",
    "Answer the following in a md block in the python notebook.\n",
    "\n",
    "What does each row in cocoli.txt represent?\n",
    "- contains a single record for each tree censused.\n",
    "- different labels \n",
    "\n",
    "What does each row in cocolisp.txt represent? \n",
    "- different species \n",
    "- just contains species code \n",
    "\n",
    "What does the entry of the column multi2 refer to?\n",
    "- conttains the diamater of the stems \n",
    "\n",
    "What does the entry of the column dbh2 refer to?\n",
    "- represents the diamater at the second sensus \n",
    "-biggest stem in the standpoints\n",
    "\n",
    "\n",
    "HOw can we find the genus and species name of this record?\n",
    "- USE GREP TO FIND \n",
    "\n",
    "What is the genus and species name of this record? \n",
    "-Calycophyllum\tcandidissimum\tRubiaceae\n",
    "\n",
    "\n",
    "What about th eindividual 00009 \n",
    "\n",
    "Compare & Contrats \n",
    "-The relationship between two optinos (A or B)\n",
    "- Water abundence of the size of the step in diameter \n",
    "- change in growth overtime (two estimates of the grothweight\n",
    "- which locations have the highest set of growth \n",
    "\n",
    "======\n",
    "\n",
    "Which genus is the most species-rich in this country ?\n",
    "- use sed 's/\\s/, /g'; 7 piper\n",
    "\n",
    "How many genra have just one species represented in this community?\n",
    "-99\n",
    "sed 's/\\s/, /g' cocolisp.txt | cut -d ',' -f 2 | tail -n+1 | sort | uniq -c | sort -n | grep -w \"1\" | wc -l\n",
    "\n",
    "This community has only one species in the family Bignoniacae? \n",
    "- use grep \n",
    "sed 's/\\s/, /g' cocolisp.txt | cut -d ',' -f 2 | tail -n+1 | sort | uniq -c | sort -n | grep -w \"Bignoniacae\" #???\n",
    "\n",
    "Guided exploration of the data   \n",
    "Which individual had the highest  yearly RGR between 1994-1998?  \n",
    "\n",
    "\n",
    "Note: Remember that in python, directories are unordered collections. How can you sort this?   \n",
    "\n",
    "To which species does this individual belong?  \n",
    "\n"
   ]
  },
  {
   "cell_type": "code",
   "execution_count": 1,
   "metadata": {
    "collapsed": false
   },
   "outputs": [
    {
     "ename": "SyntaxError",
     "evalue": "invalid syntax (<ipython-input-1-39f89d01a076>, line 4)",
     "output_type": "error",
     "traceback": [
      "\u001b[0;36m  File \u001b[0;32m\"<ipython-input-1-39f89d01a076>\"\u001b[0;36m, line \u001b[0;32m4\u001b[0m\n\u001b[0;31m    import cocoli.txt:\u001b[0m\n\u001b[0m                     ^\u001b[0m\n\u001b[0;31mSyntaxError\u001b[0m\u001b[0;31m:\u001b[0m invalid syntax\n"
     ]
    }
   ],
   "source": [
    "# From Guided exploration of the data \n",
    "#pesudocode \n",
    "# MAKE DICTIONARIES \n",
    "import cocoli.txt:\n",
    "    read the data \n",
    "    order the data \n",
    "    see the highest data \n",
    "    \n",
    "## $$RGR = \\FRAC{DBH_{T+1} - }\n",
    "    \n"
   ]
  },
  {
   "cell_type": "code",
   "execution_count": null,
   "metadata": {
    "collapsed": true
   },
   "outputs": [],
   "source": []
  }
 ],
 "metadata": {
  "anaconda-cloud": {},
  "kernelspec": {
   "display_name": "Python [conda root]",
   "language": "python",
   "name": "conda-root-py"
  },
  "language_info": {
   "codemirror_mode": {
    "name": "ipython",
    "version": 3
   },
   "file_extension": ".py",
   "mimetype": "text/x-python",
   "name": "python",
   "nbconvert_exporter": "python",
   "pygments_lexer": "ipython3",
   "version": "3.5.2"
  }
 },
 "nbformat": 4,
 "nbformat_minor": 2
}
